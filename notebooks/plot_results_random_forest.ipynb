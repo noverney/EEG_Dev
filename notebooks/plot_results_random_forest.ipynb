{
 "cells": [
  {
   "cell_type": "code",
   "execution_count": 1,
   "metadata": {},
   "outputs": [
    {
     "name": "stdout",
     "output_type": "stream",
     "text": [
      "1\n"
     ]
    }
   ],
   "source": [
    "# load the data \n",
    "filepath = \"run_all_forest_20.txt\"\n",
    "text = ''\n",
    "with open(filepath, \"r\") as f:\n",
    "    text = f.read()\n",
    "# we get the random states\n",
    "chunks = text.split(\"\\nStates\")\n",
    "error_groups = [] \n",
    "\n",
    "def parse_first_line(line):\n",
    "    info = line.split(\",\")\n",
    "    info = [x.split(\": \") for x in info]\n",
    "    return info[0][-1], info[1][-1], info[2][-1], info[3][-1]\n",
    "    \n",
    "def parse_order(chunk, test):\n",
    "    if len(chunk) < 4:\n",
    "        print(chunk)\n",
    "        print(test)\n",
    "    total_acc = float(chunk[2].split(\": \")[-1])\n",
    "    control_acc = float(chunk[3].split(\": \")[-1])\n",
    "    pd_acc = float(chunk[4].split(\": \")[-1])\n",
    "    return total_acc, control_acc, pd_acc\n",
    "\n",
    "def parse_chunk(chunk, print_error=True):\n",
    "    lines = chunk.split(\"\\n\")\n",
    "    lines = [x for x in lines if x != \"\"]\n",
    "    \n",
    "    n_maps, random_state, sampling, test_size = parse_first_line(lines[0])\n",
    "    \n",
    "    if \"Error\" in lines[-1]:\n",
    "        if \"AssertionError\" in lines[-1]:\n",
    "            error_groups.append(f\"{random_state}_{sampling}_{test_size}\")\n",
    "        return n_maps, f\"{random_state}_{sampling}_{test_size}\", {\"first_order\":\"ERROR\", \n",
    "                                                                  \"second_order\":\"ERROR\",\n",
    "                                                                  \"zero_order\":\"ERROR\"}\n",
    "        \n",
    "    index = 0\n",
    "    for line in lines:\n",
    "        if \"First Order\" not in line:\n",
    "            index += 1 \n",
    "        else:\n",
    "            break\n",
    "    first_order = lines[index:index+5]\n",
    "    second_order = lines[index+6+10:index+6+10+5]\n",
    "    \n",
    "    for line in lines[index:]:\n",
    "        if \"Zero Order\" not in line:\n",
    "            index += 1 \n",
    "        else:\n",
    "            break\n",
    "    zero_order = lines[index:index+5]\n",
    "    (first_total_acc, first_control_acc, first_pd_acc) = parse_order(first_order, chunk)\n",
    "    (second_total_acc, second_control_acc, second_pd_acc) = parse_order(second_order, chunk)\n",
    "    (zero_total_acc, zero_control_acc, zero_pd_acc) = parse_order(zero_order, chunk)\n",
    "    \n",
    "    results = {\"first_order\": [first_total_acc, first_control_acc, first_pd_acc],\n",
    "               \"second_order\": [second_total_acc, second_control_acc, second_pd_acc],\n",
    "               \"zero_order\": [zero_total_acc, zero_control_acc, zero_pd_acc]}\n",
    "    \n",
    "    return (n_maps, f\"{random_state}_{sampling}_{test_size}\", results)\n",
    "    \n",
    "    \n",
    "\n",
    "# put it into by number of classes\n",
    "class_to_results = {}\n",
    "for chunk in chunks:\n",
    "    if chunk != \"\":\n",
    "        #assert len(parse_chunk(chunk))==3, chunk\n",
    "        n_maps, value, result = parse_chunk(chunk)\n",
    "        if n_maps not in class_to_results:\n",
    "            class_to_results[n_maps] = {\"values\":[value], \"results\":[result]}\n",
    "        else:\n",
    "            class_to_results[n_maps][\"values\"].append(value)\n",
    "            class_to_results[n_maps][\"results\"].append(result)\n",
    "print(len(class_to_results))"
   ]
  },
  {
   "cell_type": "code",
   "execution_count": 2,
   "metadata": {},
   "outputs": [
    {
     "data": {
      "text/plain": [
       "'\\nfilepath_down = \"random_forest/results_4.txt\"\\ntext_down = \\'\\'\\nwith open(filepath_down, \"r\") as f:\\n    text_down = f.read()\\n# we get the random states\\nchunks = text_down.split(\"\\nStates\")\\nfor chunk in chunks:\\n    if chunk != \"\":\\n        n_maps, value, result = parse_chunk(chunk)\\n        if n_maps not in class_to_results:\\n            class_to_results[n_maps] = {\"values\":[value], \"results\":[result]}\\n        else:\\n            class_to_results[n_maps][\"values\"].append(value)\\n            class_to_results[n_maps][\"results\"].append(result)\\n#print(len(values))\\nprint(error_groups)\\n'"
      ]
     },
     "execution_count": 2,
     "metadata": {},
     "output_type": "execute_result"
    }
   ],
   "source": [
    "# we parse the other output file \n",
    "# load the data \n",
    "\"\"\"\n",
    "filepath_down = \"random_forest/results_4.txt\"\n",
    "text_down = ''\n",
    "with open(filepath_down, \"r\") as f:\n",
    "    text_down = f.read()\n",
    "# we get the random states\n",
    "chunks = text_down.split(\"\\nStates\")\n",
    "for chunk in chunks:\n",
    "    if chunk != \"\":\n",
    "        n_maps, value, result = parse_chunk(chunk)\n",
    "        if n_maps not in class_to_results:\n",
    "            class_to_results[n_maps] = {\"values\":[value], \"results\":[result]}\n",
    "        else:\n",
    "            class_to_results[n_maps][\"values\"].append(value)\n",
    "            class_to_results[n_maps][\"results\"].append(result)\n",
    "#print(len(values))\n",
    "print(error_groups)\n",
    "\"\"\""
   ]
  },
  {
   "cell_type": "code",
   "execution_count": 3,
   "metadata": {},
   "outputs": [
    {
     "name": "stdout",
     "output_type": "stream",
     "text": [
      "[]\n",
      "0/12000\n",
      "{}\n",
      "{}\n",
      "{}\n",
      "{}\n"
     ]
    }
   ],
   "source": [
    "# figure out the groups most common errors \n",
    "print(error_groups)\n",
    "print(f\"{len(error_groups)}/{4*1000*3}\")\n",
    "error_sampling = {}\n",
    "error_test_sizes = {}\n",
    "for error in error_groups:\n",
    "    info = error.split(\"_\")\n",
    "    if info[1] not in error_sampling:\n",
    "        error_sampling[info[1]] = 1\n",
    "    else:\n",
    "        error_sampling[info[1]] += 1\n",
    "    if info[2] not in error_test_sizes:\n",
    "        error_test_sizes[info[2]] = 1\n",
    "    else:\n",
    "        error_test_sizes[info[2]] += 1\n",
    "print(error_sampling)\n",
    "print(error_test_sizes)\n",
    "print({k:round(v/(4*1000*3),4) for k,v in error_sampling.items()})\n",
    "print({k:round(v/(4*1000*3),4) for k,v in error_test_sizes.items()})"
   ]
  },
  {
   "cell_type": "code",
   "execution_count": 4,
   "metadata": {},
   "outputs": [],
   "source": [
    "# so now we do plotting of the results so we should plot the accuarcy and find the average for the different versions\n",
    "values = class_to_results[\"4\"][\"values\"]\n",
    "results = class_to_results[\"4\"][\"results\"]\n",
    "\n",
    "def get_average(values, results, order, test_size=0):\n",
    "    sampling_to_acc_total = {\"up\":[], \"down\":[], \"syn\":[]}\n",
    "    sampling_to_acc_control = {\"up\":[], \"down\":[], \"syn\":[]}\n",
    "    sampling_to_acc_patient = {\"up\":[], \"down\":[], \"syn\":[]}\n",
    "\n",
    "    for index,val in enumerate(values):\n",
    "        if test_size != float(val.split(\"_\")[2]) and test_size !=0:\n",
    "            continue\n",
    "\n",
    "        if results[index][\"first_order\"] != \"ERROR\":\n",
    "            sampling_to_acc_total[val.split(\"_\")[1]].append(results[index][order][0])\n",
    "            sampling_to_acc_control[val.split(\"_\")[1]].append(results[index][order][1])\n",
    "            sampling_to_acc_patient[val.split(\"_\")[1]].append(results[index][order][2])\n",
    "\n",
    "    return sampling_to_acc_total, sampling_to_acc_control, sampling_to_acc_patient\n",
    "\n",
    "first_acc_total,first_acc_control,first_acc_patient = get_average(values, results, \"first_order\")\n",
    "second_acc_total,second_acc_control,second_acc_patient = get_average(values, results, \"second_order\")\n",
    "zero_acc_total,zero_acc_control,zero_acc_patient = get_average(values, results, \"zero_order\")"
   ]
  },
  {
   "cell_type": "code",
   "execution_count": 39,
   "metadata": {},
   "outputs": [
    {
     "data": {
      "image/png": "[encoded data removed]",
      "text/plain": [
       "<Figure size 432x288 with 1 Axes>"
      ]
     },
     "metadata": {
      "needs_background": "light"
     },
     "output_type": "display_data"
    },
    {
     "data": {
      "image/png": "[encoded data removed]",
      "text/plain": [
       "<Figure size 432x288 with 1 Axes>"
      ]
     },
     "metadata": {
      "needs_background": "light"
     },
     "output_type": "display_data"
    }
   ],
   "source": [
    "# violin plot to get the distributions \n",
    "import pandas as pd\n",
    "import seaborn as sns\n",
    "import matplotlib.pyplot as plt\n",
    "\n",
    "def dict_to_df(accs):\n",
    "    Y = []\n",
    "    X = []\n",
    "    for key in accs:\n",
    "        X.extend([key]*len(accs[key]))\n",
    "        Y.extend(accs[key])\n",
    "\n",
    "    return pd.DataFrame({\"x\":X, \"y\":Y})\n",
    "\n",
    "def violin_plot(df, x_name, y_name, title):\n",
    "    # Draw Plot\n",
    "    ax = sns.violinplot(x=x_name, y=y_name, data=df, scale='width', inner='quartile')\n",
    "    ax = sns.swarmplot(x=x_name, y=y_name, data=df, color=\"red\")\n",
    "    # Decoration\n",
    "    plt.xlabel(\"Sampling Method\", fontsize=12)\n",
    "    plt.ylabel(\"Percent Accuracy\", fontsize=12)\n",
    "    plt.savefig(title)\n",
    "    plt.show()\n",
    "\n",
    "def box_plot(df, x_name, y_name, title):\n",
    "     \n",
    "    # Usual boxplot\n",
    "    ax = sns.boxplot(x=x_name, y=y_name, data=df, medianprops={'color':'red'}, meanline=True, showmeans=True, \n",
    "                     meanprops={'color':'black'})\n",
    "\n",
    "    # Add jitter with the swarmplot function.\n",
    "    ax = sns.swarmplot(x=x_name, y=y_name, data=df, color=\"red\")\n",
    "    plt.xlabel(\"Sampling Method\", fontsize=12)\n",
    "    plt.ylabel(\"Percent Accuracy\", fontsize=12)\n",
    "    plt.savefig(title)\n",
    "    plt.show()\n",
    "df = dict_to_df(first_acc_total)\n",
    "violin_plot(df, \"x\", \"y\", \"violin_plot\")\n",
    "box_plot(df, \"x\", \"y\", \"box_plot\")"
   ]
  },
  {
   "cell_type": "code",
   "execution_count": 7,
   "metadata": {},
   "outputs": [
    {
     "ename": "TypeError",
     "evalue": "violin_plot() missing 1 required positional argument: 'title'",
     "output_type": "error",
     "traceback": [
      "\u001b[1;31m---------------------------------------------------------------------------\u001b[0m",
      "\u001b[1;31mTypeError\u001b[0m                                 Traceback (most recent call last)",
      "\u001b[1;32m<ipython-input-7-d75cbbee9a8d>\u001b[0m in \u001b[0;36m<module>\u001b[1;34m\u001b[0m\n\u001b[0;32m      1\u001b[0m \u001b[0mdf\u001b[0m \u001b[1;33m=\u001b[0m \u001b[0mdict_to_df\u001b[0m\u001b[1;33m(\u001b[0m\u001b[0msecond_acc_total\u001b[0m\u001b[1;33m)\u001b[0m\u001b[1;33m\u001b[0m\u001b[1;33m\u001b[0m\u001b[0m\n\u001b[1;32m----> 2\u001b[1;33m \u001b[0mviolin_plot\u001b[0m\u001b[1;33m(\u001b[0m\u001b[0mdf\u001b[0m\u001b[1;33m,\u001b[0m \u001b[1;34m\"x\"\u001b[0m\u001b[1;33m,\u001b[0m \u001b[1;34m\"y\"\u001b[0m\u001b[1;33m)\u001b[0m\u001b[1;33m\u001b[0m\u001b[1;33m\u001b[0m\u001b[0m\n\u001b[0m\u001b[0;32m      3\u001b[0m \u001b[0mbox_plot\u001b[0m\u001b[1;33m(\u001b[0m\u001b[0mdf\u001b[0m\u001b[1;33m,\u001b[0m \u001b[1;34m\"x\"\u001b[0m\u001b[1;33m,\u001b[0m \u001b[1;34m\"y\"\u001b[0m\u001b[1;33m)\u001b[0m\u001b[1;33m\u001b[0m\u001b[1;33m\u001b[0m\u001b[0m\n",
      "\u001b[1;31mTypeError\u001b[0m: violin_plot() missing 1 required positional argument: 'title'"
     ]
    }
   ],
   "source": [
    "df = dict_to_df(second_acc_total)\n",
    "violin_plot(df, \"x\", \"y\")\n",
    "box_plot(df, \"x\", \"y\")"
   ]
  },
  {
   "cell_type": "code",
   "execution_count": null,
   "metadata": {},
   "outputs": [],
   "source": [
    "import matplotlib.pyplot as plt\n",
    "\n",
    "def autolabel(rects, ax):\n",
    "    \"\"\"\n",
    "    Attach a text label above each bar displaying its height\n",
    "    \"\"\"\n",
    "    for rect in rects:\n",
    "        height = rect.get_height()\n",
    "        ax.text(rect.get_x() + rect.get_width()/2., 1.01*height,\n",
    "                '%d' % int(height),\n",
    "                ha='center', va='bottom')\n",
    "\n",
    "def create_bar_graph(sampling_to_acc_total,sampling_to_acc_control,sampling_to_acc_patient, title):\n",
    "    fig = plt.figure(figsize=(14,6))\n",
    "    #ax = fig.add_axes([0,0,1,1])\n",
    "    ax = fig.add_axes([0.1,0.1,0.75,0.75]) # axis starts at 0.1, 0.1\n",
    "    colors = [\"c\", \"m\", \"y\"]\n",
    "    sampling = [\"up\", \"down\", \"syn\"]\n",
    "    all_rects = []\n",
    "    for i,key in enumerate(sampling):\n",
    "        average_total = sum(sampling_to_acc_total[key])/len(sampling_to_acc_total[key])\n",
    "        average_control = sum(sampling_to_acc_control[key])/len(sampling_to_acc_total[key])\n",
    "        average_patient = sum(sampling_to_acc_patient[key])/len(sampling_to_acc_patient[key])\n",
    "        names = [f\"{key}_Total\", f\"{key}_Control\", f\"{key}_PD\"]\n",
    "        averages = [average_total,average_control,average_patient ]\n",
    "        rects = ax.bar(names,averages,color=colors[i])\n",
    "        autolabel(rects, ax)\n",
    "        all_rects.append(rects)\n",
    "    ax.legend((all_rects[0][0], all_rects[1][0],all_rects[2][0]), sampling)\n",
    "    ax.set_xticklabels([\"Total\", \"Control\", \"PD\"]*3)\n",
    "    plt.xticks(fontsize=14)\n",
    "    fig.savefig(title)\n",
    "    plt.show()\n",
    "\n",
    "# second_acc_total,second_acc_control,second_acc_patient = get_average(values, results, \"first_order\", 0.20)\n",
    "# create_bar_graph(second_acc_total,second_acc_control,second_acc_patient, \"nothing\")"
   ]
  },
  {
   "cell_type": "code",
   "execution_count": null,
   "metadata": {},
   "outputs": [],
   "source": [
    "# do it for all classes \n",
    "values = class_to_results[\"4\"][\"values\"]\n",
    "results = class_to_results[\"4\"][\"results\"]\n",
    "first_acc_total,first_acc_control,first_acc_patient = get_average(values, results, \"first_order\")\n",
    "second_acc_total,second_acc_control,second_acc_patient = get_average(values, results, \"second_order\")\n",
    "zero_acc_total,zero_acc_control,zero_acc_patient = get_average(values, results, \"zero_order\")\n",
    "\n",
    "create_bar_graph(zero_acc_total,zero_acc_control,zero_acc_patient, \"zero_order\")\n",
    "create_bar_graph(first_acc_total,first_acc_control,first_acc_patient, \"first_order\")\n",
    "create_bar_graph(second_acc_total,second_acc_control,second_acc_patient, \"second_order\")"
   ]
  }
 ],
 "metadata": {
  "kernelspec": {
   "display_name": "Python 3",
   "language": "python",
   "name": "python3"
  },
  "language_info": {
   "codemirror_mode": {
    "name": "ipython",
    "version": 3
   },
   "file_extension": ".py",
   "mimetype": "text/x-python",
   "name": "python",
   "nbconvert_exporter": "python",
   "pygments_lexer": "ipython3",
   "version": "3.7.6"
  }
 },
 "nbformat": 4,
 "nbformat_minor": 2
}
